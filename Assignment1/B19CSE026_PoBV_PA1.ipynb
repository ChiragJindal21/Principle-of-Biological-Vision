{
  "nbformat": 4,
  "nbformat_minor": 0,
  "metadata": {
    "colab": {
      "name": "B19CSE026_PoBV_PA1",
      "provenance": [],
      "collapsed_sections": []
    },
    "kernelspec": {
      "name": "python3",
      "display_name": "Python 3"
    },
    "language_info": {
      "name": "python"
    }
  },
  "cells": [
    {
      "cell_type": "code",
      "execution_count": null,
      "metadata": {
        "id": "Uk0L1NBMsgLH"
      },
      "outputs": [],
      "source": [
        "# Importing Libraries\n",
        "\n",
        "import numpy as np\n",
        "import matplotlib.pyplot as plt"
      ]
    },
    {
      "cell_type": "code",
      "source": [
        "# Creating a chess-board image\n",
        "\n",
        "height=1024 # Image dimensions\n",
        "width =1024\n",
        "\n",
        "chessboard = np.zeros((height, width), dtype=np.uint8) # Initialize with zeroes (black)\n",
        "\n",
        "\n",
        "for i in range(0,height):\n",
        "  for j in range(0, width):\n",
        "      if(((i%256 < 128 ) and (j%256 < 128)) or ((i%256 >= 128 ) and (j%256 >= 128))) :\n",
        "        chessboard[i,j] = 255   # Make it white\n",
        "\n",
        "# Show the image\n",
        "fig = plt.figure() # use default display size\n",
        "plt.imshow(chessboard, cmap=\"gray\")"
      ],
      "metadata": {
        "colab": {
          "base_uri": "https://localhost:8080/",
          "height": 286
        },
        "id": "3sx4fYTdswQQ",
        "outputId": "8853fc58-0fe5-45fe-b0d8-5679d8826ecc"
      },
      "execution_count": null,
      "outputs": [
        {
          "output_type": "execute_result",
          "data": {
            "text/plain": [
              "<matplotlib.image.AxesImage at 0x7fec83199990>"
            ]
          },
          "metadata": {},
          "execution_count": 90
        },
        {
          "output_type": "display_data",
          "data": {
            "text/plain": [
              "<Figure size 432x288 with 1 Axes>"
            ],
            "image/png": "[encoded data removed]"
          },
          "metadata": {
            "needs_background": "light"
          }
        }
      ]
    },
    {
      "cell_type": "code",
      "source": [
        "# Define horizontal and vertical Sobel filters\n",
        "\n",
        "filter_h = np.array([[1,2,1], [0, 0, 0], [-1,-2,-1]])  # Horizontal Sobel Filter\n",
        "filter_v = np.array([[-1, 0, 1], [-2, 0, 2], [-1, 0, 1]])  # Vertical Sobel Filter\n",
        "\n",
        "print(\"filter_h:\")\n",
        "print(filter_h)\n",
        "print()\n",
        "print(\"filter_v:\")\n",
        "print(filter_v)"
      ],
      "metadata": {
        "id": "rdFzqkyGvVtM",
        "colab": {
          "base_uri": "https://localhost:8080/"
        },
        "outputId": "d405a208-8097-43ee-e869-ba26610cfa87"
      },
      "execution_count": null,
      "outputs": [
        {
          "output_type": "stream",
          "name": "stdout",
          "text": [
            "filter_h:\n",
            "[[ 1  2  1]\n",
            " [ 0  0  0]\n",
            " [-1 -2 -1]]\n",
            "\n",
            "filter_v:\n",
            "[[-1  0  1]\n",
            " [-2  0  2]\n",
            " [-1  0  1]]\n"
          ]
        }
      ]
    },
    {
      "cell_type": "code",
      "source": [
        "# Function to add zero-padding\n",
        "def zero_padding(mat):\n",
        "  m,n = mat.shape # matrix shape\n",
        "  arr = np.zeros(n,  dtype=np.uint8) # array (initialized with 0) of size n (no. of columns) \n",
        "  arr.resize((1, 1024))\n",
        "  mat = np.concatenate((arr, mat), axis = 0) # appending array at the top\n",
        "  mat = np.concatenate((mat, arr), axis = 0) # appending array at the bottom\n",
        "  arr = np.zeros(m+2,  dtype=np.uint8) # array (initialized with 0) of size m + 2 (no. of rows + 2) \n",
        "  arr.resize((1026,1))\n",
        "  mat = np.concatenate((arr, mat), axis = 1) # appending array at the left\n",
        "  mat = np.concatenate((mat, arr), axis = 1) # appedning array at the right\n",
        "  return mat"
      ],
      "metadata": {
        "id": "MfUdPGXZN6Ww"
      },
      "execution_count": null,
      "outputs": []
    },
    {
      "cell_type": "code",
      "source": [
        "# define 2D convolution function\n",
        "def my2Dconvolution(filter, image):\n",
        "\n",
        "  r, c = image.shape # image shape\n",
        "  r1, c1 = filter.shape # filter shape\n",
        "\n",
        "  padded_img = zero_padding(image) # padding the image\n",
        "  new_img = np.zeros(image.shape, dtype=np.uint8) # Initializing the Final image\n",
        "\n",
        "  for i in range(1,r+1): # Traversing through each row of the image\n",
        "    for j in range(1,c+1): # Traversing through each col of the image\n",
        "      val = 0\n",
        "      for k in range(r1): # Convolution of the image with the filter\n",
        "        for l in range(c1):\n",
        "          val+=padded_img[i+(k-1)][j+(l-1)]*filter[k][l]\n",
        "      new_img[i-1][j-1] = abs(val) # absolute value is assigned because highly -ve value also signfies the presence of the edge\n",
        "    \n",
        "  return new_img"
      ],
      "metadata": {
        "id": "RbLS2EoDyMEe"
      },
      "execution_count": null,
      "outputs": []
    },
    {
      "cell_type": "code",
      "source": [
        "new_img = my2Dconvolution(filter_h, chessboard)"
      ],
      "metadata": {
        "id": "dqPbSNtPhch-"
      },
      "execution_count": null,
      "outputs": []
    },
    {
      "cell_type": "code",
      "source": [
        "fig = plt.figure() # use default display size\n",
        "plt.imshow(new_img, cmap=\"gray\")\n",
        "plt.title(\"Image convolved with horizontal Sobel filter\")"
      ],
      "metadata": {
        "colab": {
          "base_uri": "https://localhost:8080/",
          "height": 298
        },
        "id": "Bm4PpAAdh2Sa",
        "outputId": "c0f95692-0f45-4bbc-e58c-eb1de7d7fa8d"
      },
      "execution_count": null,
      "outputs": [
        {
          "output_type": "execute_result",
          "data": {
            "text/plain": [
              "Text(0.5, 1.0, 'Image convolved with horizontal Sobel filter')"
            ]
          },
          "metadata": {},
          "execution_count": 94
        },
        {
          "output_type": "display_data",
          "data": {
            "text/plain": [
              "<Figure size 432x288 with 1 Axes>"
            ],
            "image/png": "[encoded data removed]"
          },
          "metadata": {
            "needs_background": "light"
          }
        }
      ]
    },
    {
      "cell_type": "code",
      "source": [
        "new_img = my2Dconvolution(filter_v, chessboard)"
      ],
      "metadata": {
        "id": "5fXdJcp-q9EN"
      },
      "execution_count": null,
      "outputs": []
    },
    {
      "cell_type": "code",
      "source": [
        "fig = plt.figure() # use default display size\n",
        "plt.imshow(new_img, cmap=\"gray\")\n",
        "plt.title(\"Image convolved with vertical Sobel filter\")"
      ],
      "metadata": {
        "colab": {
          "base_uri": "https://localhost:8080/",
          "height": 298
        },
        "id": "h6uhUmvFrFV-",
        "outputId": "b7cf37e5-3469-4719-b23f-f95d0652739f"
      },
      "execution_count": 97,
      "outputs": [
        {
          "output_type": "execute_result",
          "data": {
            "text/plain": [
              "Text(0.5, 1.0, 'Image convolved with vertical Sobel filter')"
            ]
          },
          "metadata": {},
          "execution_count": 97
        },
        {
          "output_type": "display_data",
          "data": {
            "text/plain": [
              "<Figure size 432x288 with 1 Axes>"
            ],
            "image/png": "[encoded data removed]"
          },
          "metadata": {
            "needs_background": "light"
          }
        }
      ]
    }
  ]
}